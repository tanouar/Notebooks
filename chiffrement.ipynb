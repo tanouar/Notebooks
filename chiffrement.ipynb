{
 "cells": [
  {
   "cell_type": "code",
   "execution_count": 29,
   "id": "2e530713",
   "metadata": {},
   "outputs": [
    {
     "name": "stdout",
     "output_type": "stream",
     "text": [
      "Message chiffré: cPCJULqst6UVjcnmMEYJOMopRZqg+sniH4rdLZFGuGXJI3XFlhElsy4nbEti9gIU\n",
      "Message déchiffré: 001-313\n"
     ]
    }
   ],
   "source": [
    "import subprocess\n",
    "import sys\n",
    "\n",
    "try:\n",
    "    from Crypto.Cipher import AES\n",
    "    from Crypto.Util.Padding import pad, unpad\n",
    "    from Crypto.Random import get_random_bytes\n",
    "    from Crypto.Protocol.KDF import PBKDF2\n",
    "    from base64 import b64encode, b64decode\n",
    "except ImportError as e:\n",
    "    print(\"Installation des modules manquants...\")\n",
    "    subprocess.check_call([sys.executable, \"-m\", \"pip\", \"install\", \"pycryptodome\"])\n",
    "    from Crypto.Cipher import AES\n",
    "    from Crypto.Util.Padding import pad, unpad\n",
    "    from Crypto.Random import get_random_bytes\n",
    "    from Crypto.Protocol.KDF import PBKDF2\n",
    "    from base64 import b64encode, b64decode\n",
    "\n",
    "def encrypt(message, password):\n",
    "    salt = get_random_bytes(16)\n",
    "    key = PBKDF2(password, salt, dkLen=32, count=1000000)\n",
    "    iv = get_random_bytes(AES.block_size)\n",
    "    cipher = AES.new(key, AES.MODE_CBC, iv)\n",
    "    ciphertext = cipher.encrypt(pad(message.encode('utf-8'), AES.block_size))\n",
    "    return b64encode(salt + iv + ciphertext).decode('utf-8')\n",
    "\n",
    "def decrypt(enc_message, password):\n",
    "    data = b64decode(enc_message)\n",
    "    salt, iv, ciphertext = data[:16], data[16:32], data[32:]\n",
    "    key = PBKDF2(password, salt, dkLen=32, count=1000000)\n",
    "    cipher = AES.new(key, AES.MODE_CBC, iv)\n",
    "    decrypted_message = unpad(cipher.decrypt(ciphertext), AES.block_size)\n",
    "    return decrypted_message.decode('utf-8')\n",
    "\n",
    "\n",
    "\n",
    "# Exemple d'utilisation\n",
    "password = b'mask'  # Assurez-vous que c'est en bytes\n",
    "message = \"001-313\"\n",
    "\n",
    "encrypted_message = encrypt(message, password)\n",
    "print(\"Message chiffré:\", encrypted_message)\n",
    "\n",
    "decrypted_message = decrypt(encrypted_message, password)\n",
    "print(\"Message déchiffré:\", decrypted_message)\n"
   ]
  },
  {
   "cell_type": "code",
   "execution_count": 25,
   "id": "a7357475",
   "metadata": {},
   "outputs": [
    {
     "name": "stdout",
     "output_type": "stream",
     "text": [
      "Message chiffré: lNBxQr3WPX9TAMdVuBkm8Q==\n",
      "Message déchiffré: 001-313\n"
     ]
    }
   ],
   "source": [
    "from Crypto.Cipher import AES\n",
    "from Crypto.Util.Padding import pad, unpad\n",
    "from Crypto.Protocol.KDF import PBKDF2\n",
    "from base64 import b64encode, b64decode\n",
    "\n",
    "# Clé de 64 caractères\n",
    "password = b'maCleDe64CaracterePourLeChiffrementDeterministeAES1234567890'\n",
    "\n",
    "# Valeurs fixes pour le sel et l'IV\n",
    "fixed_salt = b'\\x00' * 16  # 16 octets de zéros\n",
    "fixed_iv = b'\\x00' * 16   # 16 octets de zéros\n",
    "\n",
    "def encrypt(message, password):\n",
    "    # Dérivation de la clé en utilisant PBKDF2 avec un sel fixe\n",
    "    key = PBKDF2(password, fixed_salt, dkLen=32, count=1000000)  # Utilisation de 32 octets pour AES-256\n",
    "\n",
    "    # Création du cipher avec un IV fixe\n",
    "    cipher = AES.new(key, AES.MODE_CBC, fixed_iv)\n",
    "\n",
    "    # Chiffrement du message\n",
    "    ciphertext = cipher.encrypt(pad(message.encode('utf-8'), AES.block_size))\n",
    "\n",
    "    # Encodage en base64 du texte chiffré\n",
    "    return b64encode(ciphertext).decode('utf-8')\n",
    "\n",
    "def decrypt(enc_message, password):\n",
    "    # Décodage du message encodé en base64\n",
    "    ciphertext = b64decode(enc_message)\n",
    "\n",
    "    # Dérivation de la clé en utilisant PBKDF2 avec un sel fixe\n",
    "    key = PBKDF2(password, fixed_salt, dkLen=32, count=1000000)  # Utilisation de 32 octets pour AES-256\n",
    "\n",
    "    # Création du cipher avec un IV fixe\n",
    "    cipher = AES.new(key, AES.MODE_CBC, fixed_iv)\n",
    "\n",
    "    # Déchiffrement du message\n",
    "    decrypted_message = unpad(cipher.decrypt(ciphertext), AES.block_size)\n",
    "\n",
    "    return decrypted_message.decode('utf-8')\n",
    "\n",
    "# Exemple d'utilisation\n",
    "message = \"001-313\"\n",
    "\n",
    "encrypted_message = encrypt(message, password)\n",
    "print(\"Message chiffré:\", encrypted_message)\n",
    "\n",
    "decrypted_message = decrypt(encrypted_message, password)\n",
    "print(\"Message déchiffré:\", decrypted_message)\n"
   ]
  }
 ],
 "metadata": {
  "kernelspec": {
   "display_name": "TestEnv",
   "language": "python",
   "name": "python3"
  },
  "language_info": {
   "codemirror_mode": {
    "name": "ipython",
    "version": 3
   },
   "file_extension": ".py",
   "mimetype": "text/x-python",
   "name": "python",
   "nbconvert_exporter": "python",
   "pygments_lexer": "ipython3",
   "version": "3.12.4"
  }
 },
 "nbformat": 4,
 "nbformat_minor": 5
}
