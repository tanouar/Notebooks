{
 "cells": [
  {
   "cell_type": "code",
   "execution_count": null,
   "id": "6c54f3a2",
   "metadata": {},
   "outputs": [
    {
     "name": "stdout",
     "output_type": "stream",
     "text": [
      "o\n",
      "5\n",
      "or\n",
      "4\n",
      "oro\n",
      "3\n",
      "orot\n",
      "2\n",
      "oroto\n",
      "1\n",
      "orotot\n",
      "0\n",
      "6\n",
      "[4, 3, 2, 1, 0]\n"
     ]
    }
   ],
   "source": [
    "mot = 'totoro'\n",
    "mot_inverse = \"\"\n",
    "\n",
    "for i in range(len(mot) - 1, -1, -1):\n",
    "    mot_inverse += mot[i]\n",
    "    print(mot_inverse), print(i)\n",
    "\n",
    "print(len(mot))\n",
    "\n",
    "print(list(range(4,-1,-1)))\n"
   ]
  },
  {
   "cell_type": "code",
   "execution_count": 12,
   "id": "22056bb8",
   "metadata": {},
   "outputs": [
    {
     "data": {
      "application/vnd.microsoft.datawrangler.viewer.v0+json": {
       "columns": [
        {
         "name": "index",
         "rawType": "int64",
         "type": "integer"
        },
        {
         "name": "world_rank",
         "rawType": "object",
         "type": "string"
        },
        {
         "name": "university_name",
         "rawType": "object",
         "type": "string"
        },
        {
         "name": "country",
         "rawType": "object",
         "type": "string"
        },
        {
         "name": "teaching",
         "rawType": "float64",
         "type": "float"
        },
        {
         "name": "international",
         "rawType": "object",
         "type": "string"
        },
        {
         "name": "research",
         "rawType": "float64",
         "type": "float"
        },
        {
         "name": "citations",
         "rawType": "float64",
         "type": "float"
        },
        {
         "name": "income",
         "rawType": "object",
         "type": "string"
        },
        {
         "name": "total_score",
         "rawType": "object",
         "type": "string"
        },
        {
         "name": "num_students",
         "rawType": "object",
         "type": "string"
        },
        {
         "name": "student_staff_ratio",
         "rawType": "float64",
         "type": "float"
        },
        {
         "name": "international_students",
         "rawType": "object",
         "type": "string"
        },
        {
         "name": "female_male_ratio",
         "rawType": "object",
         "type": "unknown"
        },
        {
         "name": "year",
         "rawType": "int64",
         "type": "integer"
        }
       ],
       "ref": "3f699585-3824-4b4a-a07e-f0fdbbf5cc25",
       "rows": [
        [
         "0",
         "1",
         "Harvard University",
         "United States of America",
         "99.7",
         "72.4",
         "98.7",
         "98.8",
         "34.5",
         "96.1",
         "20,152",
         "8.9",
         "25%",
         null,
         "2011"
        ],
        [
         "1",
         "2",
         "California Institute of Technology",
         "United States of America",
         "97.7",
         "54.6",
         "98.0",
         "99.9",
         "83.7",
         "96.0",
         "2,243",
         "6.9",
         "27%",
         "33 : 67",
         "2011"
        ],
        [
         "2",
         "3",
         "Massachusetts Institute of Technology",
         "United States of America",
         "97.8",
         "82.3",
         "91.4",
         "99.9",
         "87.5",
         "95.6",
         "11,074",
         "9.0",
         "33%",
         "37 : 63",
         "2011"
        ],
        [
         "3",
         "4",
         "Stanford University",
         "United States of America",
         "98.3",
         "29.5",
         "98.1",
         "99.2",
         "64.3",
         "94.3",
         "15,596",
         "7.8",
         "22%",
         "42 : 58",
         "2011"
        ],
        [
         "4",
         "5",
         "Princeton University",
         "United States of America",
         "90.9",
         "70.3",
         "95.4",
         "99.9",
         "-",
         "94.2",
         "7,929",
         "8.4",
         "27%",
         "45 : 55",
         "2011"
        ],
        [
         "5",
         "6",
         "University of Cambridge",
         "United Kingdom",
         "90.5",
         "77.7",
         "94.1",
         "94.0",
         "57.0",
         "91.2",
         "18,812",
         "11.8",
         "34%",
         "46 : 54",
         "2011"
        ],
        [
         "6",
         "6",
         "University of Oxford",
         "United Kingdom",
         "88.2",
         "77.2",
         "93.9",
         "95.1",
         "73.5",
         "91.2",
         "19,919",
         "11.6",
         "34%",
         "46 : 54",
         "2011"
        ],
        [
         "7",
         "8",
         "University of California, Berkeley",
         "United States of America",
         "84.2",
         "39.6",
         "99.3",
         "97.8",
         "-",
         "91.1",
         "36,186",
         "16.4",
         "15%",
         "50 : 50",
         "2011"
        ],
        [
         "8",
         "9",
         "Imperial College London",
         "United Kingdom",
         "89.2",
         "90.0",
         "94.5",
         "88.3",
         "92.9",
         "90.6",
         "15,060",
         "11.7",
         "51%",
         "37 : 63",
         "2011"
        ],
        [
         "9",
         "10",
         "Yale University",
         "United States of America",
         "92.1",
         "59.2",
         "89.7",
         "91.5",
         "-",
         "89.5",
         "11,751",
         "4.4",
         "20%",
         "50 : 50",
         "2011"
        ]
       ],
       "shape": {
        "columns": 14,
        "rows": 10
       }
      },
      "text/html": [
       "<div>\n",
       "<style scoped>\n",
       "    .dataframe tbody tr th:only-of-type {\n",
       "        vertical-align: middle;\n",
       "    }\n",
       "\n",
       "    .dataframe tbody tr th {\n",
       "        vertical-align: top;\n",
       "    }\n",
       "\n",
       "    .dataframe thead th {\n",
       "        text-align: right;\n",
       "    }\n",
       "</style>\n",
       "<table border=\"1\" class=\"dataframe\">\n",
       "  <thead>\n",
       "    <tr style=\"text-align: right;\">\n",
       "      <th></th>\n",
       "      <th>world_rank</th>\n",
       "      <th>university_name</th>\n",
       "      <th>country</th>\n",
       "      <th>teaching</th>\n",
       "      <th>international</th>\n",
       "      <th>research</th>\n",
       "      <th>citations</th>\n",
       "      <th>income</th>\n",
       "      <th>total_score</th>\n",
       "      <th>num_students</th>\n",
       "      <th>student_staff_ratio</th>\n",
       "      <th>international_students</th>\n",
       "      <th>female_male_ratio</th>\n",
       "      <th>year</th>\n",
       "    </tr>\n",
       "  </thead>\n",
       "  <tbody>\n",
       "    <tr>\n",
       "      <th>0</th>\n",
       "      <td>1</td>\n",
       "      <td>Harvard University</td>\n",
       "      <td>United States of America</td>\n",
       "      <td>99.7</td>\n",
       "      <td>72.4</td>\n",
       "      <td>98.7</td>\n",
       "      <td>98.8</td>\n",
       "      <td>34.5</td>\n",
       "      <td>96.1</td>\n",
       "      <td>20,152</td>\n",
       "      <td>8.9</td>\n",
       "      <td>25%</td>\n",
       "      <td>NaN</td>\n",
       "      <td>2011</td>\n",
       "    </tr>\n",
       "    <tr>\n",
       "      <th>1</th>\n",
       "      <td>2</td>\n",
       "      <td>California Institute of Technology</td>\n",
       "      <td>United States of America</td>\n",
       "      <td>97.7</td>\n",
       "      <td>54.6</td>\n",
       "      <td>98.0</td>\n",
       "      <td>99.9</td>\n",
       "      <td>83.7</td>\n",
       "      <td>96.0</td>\n",
       "      <td>2,243</td>\n",
       "      <td>6.9</td>\n",
       "      <td>27%</td>\n",
       "      <td>33 : 67</td>\n",
       "      <td>2011</td>\n",
       "    </tr>\n",
       "    <tr>\n",
       "      <th>2</th>\n",
       "      <td>3</td>\n",
       "      <td>Massachusetts Institute of Technology</td>\n",
       "      <td>United States of America</td>\n",
       "      <td>97.8</td>\n",
       "      <td>82.3</td>\n",
       "      <td>91.4</td>\n",
       "      <td>99.9</td>\n",
       "      <td>87.5</td>\n",
       "      <td>95.6</td>\n",
       "      <td>11,074</td>\n",
       "      <td>9.0</td>\n",
       "      <td>33%</td>\n",
       "      <td>37 : 63</td>\n",
       "      <td>2011</td>\n",
       "    </tr>\n",
       "    <tr>\n",
       "      <th>3</th>\n",
       "      <td>4</td>\n",
       "      <td>Stanford University</td>\n",
       "      <td>United States of America</td>\n",
       "      <td>98.3</td>\n",
       "      <td>29.5</td>\n",
       "      <td>98.1</td>\n",
       "      <td>99.2</td>\n",
       "      <td>64.3</td>\n",
       "      <td>94.3</td>\n",
       "      <td>15,596</td>\n",
       "      <td>7.8</td>\n",
       "      <td>22%</td>\n",
       "      <td>42 : 58</td>\n",
       "      <td>2011</td>\n",
       "    </tr>\n",
       "    <tr>\n",
       "      <th>4</th>\n",
       "      <td>5</td>\n",
       "      <td>Princeton University</td>\n",
       "      <td>United States of America</td>\n",
       "      <td>90.9</td>\n",
       "      <td>70.3</td>\n",
       "      <td>95.4</td>\n",
       "      <td>99.9</td>\n",
       "      <td>-</td>\n",
       "      <td>94.2</td>\n",
       "      <td>7,929</td>\n",
       "      <td>8.4</td>\n",
       "      <td>27%</td>\n",
       "      <td>45 : 55</td>\n",
       "      <td>2011</td>\n",
       "    </tr>\n",
       "    <tr>\n",
       "      <th>5</th>\n",
       "      <td>6</td>\n",
       "      <td>University of Cambridge</td>\n",
       "      <td>United Kingdom</td>\n",
       "      <td>90.5</td>\n",
       "      <td>77.7</td>\n",
       "      <td>94.1</td>\n",
       "      <td>94.0</td>\n",
       "      <td>57.0</td>\n",
       "      <td>91.2</td>\n",
       "      <td>18,812</td>\n",
       "      <td>11.8</td>\n",
       "      <td>34%</td>\n",
       "      <td>46 : 54</td>\n",
       "      <td>2011</td>\n",
       "    </tr>\n",
       "    <tr>\n",
       "      <th>6</th>\n",
       "      <td>6</td>\n",
       "      <td>University of Oxford</td>\n",
       "      <td>United Kingdom</td>\n",
       "      <td>88.2</td>\n",
       "      <td>77.2</td>\n",
       "      <td>93.9</td>\n",
       "      <td>95.1</td>\n",
       "      <td>73.5</td>\n",
       "      <td>91.2</td>\n",
       "      <td>19,919</td>\n",
       "      <td>11.6</td>\n",
       "      <td>34%</td>\n",
       "      <td>46 : 54</td>\n",
       "      <td>2011</td>\n",
       "    </tr>\n",
       "    <tr>\n",
       "      <th>7</th>\n",
       "      <td>8</td>\n",
       "      <td>University of California, Berkeley</td>\n",
       "      <td>United States of America</td>\n",
       "      <td>84.2</td>\n",
       "      <td>39.6</td>\n",
       "      <td>99.3</td>\n",
       "      <td>97.8</td>\n",
       "      <td>-</td>\n",
       "      <td>91.1</td>\n",
       "      <td>36,186</td>\n",
       "      <td>16.4</td>\n",
       "      <td>15%</td>\n",
       "      <td>50 : 50</td>\n",
       "      <td>2011</td>\n",
       "    </tr>\n",
       "    <tr>\n",
       "      <th>8</th>\n",
       "      <td>9</td>\n",
       "      <td>Imperial College London</td>\n",
       "      <td>United Kingdom</td>\n",
       "      <td>89.2</td>\n",
       "      <td>90.0</td>\n",
       "      <td>94.5</td>\n",
       "      <td>88.3</td>\n",
       "      <td>92.9</td>\n",
       "      <td>90.6</td>\n",
       "      <td>15,060</td>\n",
       "      <td>11.7</td>\n",
       "      <td>51%</td>\n",
       "      <td>37 : 63</td>\n",
       "      <td>2011</td>\n",
       "    </tr>\n",
       "    <tr>\n",
       "      <th>9</th>\n",
       "      <td>10</td>\n",
       "      <td>Yale University</td>\n",
       "      <td>United States of America</td>\n",
       "      <td>92.1</td>\n",
       "      <td>59.2</td>\n",
       "      <td>89.7</td>\n",
       "      <td>91.5</td>\n",
       "      <td>-</td>\n",
       "      <td>89.5</td>\n",
       "      <td>11,751</td>\n",
       "      <td>4.4</td>\n",
       "      <td>20%</td>\n",
       "      <td>50 : 50</td>\n",
       "      <td>2011</td>\n",
       "    </tr>\n",
       "  </tbody>\n",
       "</table>\n",
       "</div>"
      ],
      "text/plain": [
       "  world_rank                        university_name                   country  \\\n",
       "0          1                     Harvard University  United States of America   \n",
       "1          2     California Institute of Technology  United States of America   \n",
       "2          3  Massachusetts Institute of Technology  United States of America   \n",
       "3          4                    Stanford University  United States of America   \n",
       "4          5                   Princeton University  United States of America   \n",
       "5          6                University of Cambridge            United Kingdom   \n",
       "6          6                   University of Oxford            United Kingdom   \n",
       "7          8     University of California, Berkeley  United States of America   \n",
       "8          9                Imperial College London            United Kingdom   \n",
       "9         10                        Yale University  United States of America   \n",
       "\n",
       "   teaching international  research  citations income total_score  \\\n",
       "0      99.7          72.4      98.7       98.8   34.5        96.1   \n",
       "1      97.7          54.6      98.0       99.9   83.7        96.0   \n",
       "2      97.8          82.3      91.4       99.9   87.5        95.6   \n",
       "3      98.3          29.5      98.1       99.2   64.3        94.3   \n",
       "4      90.9          70.3      95.4       99.9      -        94.2   \n",
       "5      90.5          77.7      94.1       94.0   57.0        91.2   \n",
       "6      88.2          77.2      93.9       95.1   73.5        91.2   \n",
       "7      84.2          39.6      99.3       97.8      -        91.1   \n",
       "8      89.2          90.0      94.5       88.3   92.9        90.6   \n",
       "9      92.1          59.2      89.7       91.5      -        89.5   \n",
       "\n",
       "  num_students  student_staff_ratio international_students female_male_ratio  \\\n",
       "0       20,152                  8.9                    25%               NaN   \n",
       "1        2,243                  6.9                    27%           33 : 67   \n",
       "2       11,074                  9.0                    33%           37 : 63   \n",
       "3       15,596                  7.8                    22%           42 : 58   \n",
       "4        7,929                  8.4                    27%           45 : 55   \n",
       "5       18,812                 11.8                    34%           46 : 54   \n",
       "6       19,919                 11.6                    34%           46 : 54   \n",
       "7       36,186                 16.4                    15%           50 : 50   \n",
       "8       15,060                 11.7                    51%           37 : 63   \n",
       "9       11,751                  4.4                    20%           50 : 50   \n",
       "\n",
       "   year  \n",
       "0  2011  \n",
       "1  2011  \n",
       "2  2011  \n",
       "3  2011  \n",
       "4  2011  \n",
       "5  2011  \n",
       "6  2011  \n",
       "7  2011  \n",
       "8  2011  \n",
       "9  2011  "
      ]
     },
     "execution_count": 12,
     "metadata": {},
     "output_type": "execute_result"
    }
   ],
   "source": [
    "import pandas as pd\n",
    "\n",
    "df = pd.read_csv('university_rank.csv')\n",
    "\n",
    "df.head(10)\n"
   ]
  },
  {
   "cell_type": "code",
   "execution_count": null,
   "id": "b4f4c3cb",
   "metadata": {},
   "outputs": [
    {
     "name": "stdout",
     "output_type": "stream",
     "text": [
      "DANS LA BOUCLE FOR -->l'increment i est : 0 le joueur est Loris avec une note = 71.0\n",
      "DANS LE IF :le nouveau maximum est : 71.0 et il a été atteint par Loris à l'indice 0 \n",
      "\n",
      "DANS LA BOUCLE FOR -->l'increment i est : 1 le joueur est Luca avec une note = 85.0\n",
      "DANS LE IF :le nouveau maximum est : 85.0 et il a été atteint par Luca à l'indice 1 \n",
      "\n",
      "DANS LA BOUCLE FOR -->l'increment i est : 2 le joueur est Marco avec une note = 90.0\n",
      "DANS LE IF :le nouveau maximum est : 90.0 et il a été atteint par Marco à l'indice 2 \n",
      "\n",
      "DANS LA BOUCLE FOR -->l'increment i est : 3 le joueur est Giulia avec une note = 95.0\n",
      "DANS LE IF :le nouveau maximum est : 95.0 et il a été atteint par Giulia à l'indice 3 \n",
      "\n",
      "DANS LA BOUCLE FOR -->l'increment i est : 4 le joueur est Sara avec une note = 80.0\n",
      "DANS LE ELSE :le joueur Sara n'a pas atteint le nouveau maximum de 95.0 \n",
      "\n"
     ]
    }
   ],
   "source": [
    "ratings = [['Loris', 71], ['Luca', 85], ['Marco', 90], ['Giulia', 95], ['Sara', 80]]\n",
    "\n",
    "maximum_index = 0\n",
    "maximum = 0\n",
    "\n",
    "for i, j, in enumerate(ratings):\n",
    "\n",
    "    print(\"DANS LA BOUCLE FOR -->l'increment i est :\", i, \"le joueur est\", j[0], \"avec une note =\", float(j[1]))\n",
    "\n",
    "    if float(j[1]) > maximum:\n",
    "        maximum = float(j[1])\n",
    "        maximum_index = i\n",
    "        print(\"DANS LE IF :le nouveau maximum est :\", maximum, \"et il a été atteint par\", j[0], \"à l'indice\", maximum_index, \"\\n\")\n",
    "\n",
    "    else:\n",
    "        print(\"DANS LE ELSE :le joueur\", j[0], \"n'a pas atteint le nouveau maximum de\", maximum, \"\\n\")\n",
    "\n"
   ]
  },
  {
   "cell_type": "code",
   "execution_count": null,
   "id": "567caecd",
   "metadata": {},
   "outputs": [
    {
     "name": "stdout",
     "output_type": "stream",
     "text": [
      "mon premier match à comme moyenne 5.5 et mon second match à comme moyenne 18.4\n"
     ]
    }
   ],
   "source": [
    "import numpy as np  \n",
    "\n",
    "ratings = [1, 2, 3, 4, 0, 5, 6, 7, 8, 9, 0, 10]\n",
    "ratings2 = [1, 2, 24, 4, 0, 53, 66, 7, 8, 9, 0, 10]\n",
    "\n",
    "\n",
    "\n",
    "def moyenne_sans_zero(notes):\n",
    "    notes_no_zero = np.array(notes)[np.array(notes) != 0]\n",
    "    return notes_no_zero.mean()\n",
    "\n",
    "\n",
    "# utilisont la fonction moyenne_sans_zero\n",
    "print(\"mon premier match à comme moyenne\", moyenne_sans_zero(ratings), \"et mon second match à comme moyenne\", moyenne_sans_zero(ratings2))\n"
   ]
  },
  {
   "cell_type": "code",
   "execution_count": 10,
   "id": "5af7357f",
   "metadata": {},
   "outputs": [
    {
     "data": {
      "text/plain": [
       "104.5"
      ]
     },
     "execution_count": 10,
     "metadata": {},
     "output_type": "execute_result"
    }
   ],
   "source": [
    "ma_liste = [1, 2, 3, 4, 5, 6, 7, 8, 9, 1000]\n",
    "\n",
    "moyenne_sans_zero(ma_liste)"
   ]
  },
  {
   "cell_type": "code",
   "execution_count": 13,
   "id": "9671129f",
   "metadata": {},
   "outputs": [],
   "source": [
    "import pandas as pd\n",
    "\n",
    "df = pd.DataFrame({\n",
    "'col1': ['A', 'A', 'B', np.nan, 'D', 'C'],\n",
    "'col2': [2, 1, 9, 8, 7, 4],\n",
    "'col3': [0, 1, 9, 4, 2, 3],\n",
    "'col4': ['a', 'B', 'c', 'D', 'e', 'F']\n",
    " })\n"
   ]
  },
  {
   "cell_type": "code",
   "execution_count": null,
   "id": "6d87612e",
   "metadata": {},
   "outputs": [
    {
     "data": {
      "application/vnd.microsoft.datawrangler.viewer.v0+json": {
       "columns": [
        {
         "name": "index",
         "rawType": "int64",
         "type": "integer"
        },
        {
         "name": "col1",
         "rawType": "object",
         "type": "unknown"
        },
        {
         "name": "col2",
         "rawType": "int64",
         "type": "integer"
        },
        {
         "name": "col3",
         "rawType": "int64",
         "type": "integer"
        },
        {
         "name": "col4",
         "rawType": "object",
         "type": "string"
        }
       ],
       "ref": "7e4e4454-1b53-4b1b-910c-c848cace8e78",
       "rows": [
        [
         "0",
         "A",
         "2",
         "0",
         "a"
        ],
        [
         "1",
         "A",
         "1",
         "1",
         "B"
        ],
        [
         "2",
         "B",
         "9",
         "9",
         "c"
        ],
        [
         "5",
         "C",
         "4",
         "3",
         "F"
        ],
        [
         "4",
         "D",
         "7",
         "2",
         "e"
        ],
        [
         "3",
         null,
         "8",
         "4",
         "D"
        ]
       ],
       "shape": {
        "columns": 4,
        "rows": 6
       }
      },
      "text/html": [
       "<div>\n",
       "<style scoped>\n",
       "    .dataframe tbody tr th:only-of-type {\n",
       "        vertical-align: middle;\n",
       "    }\n",
       "\n",
       "    .dataframe tbody tr th {\n",
       "        vertical-align: top;\n",
       "    }\n",
       "\n",
       "    .dataframe thead th {\n",
       "        text-align: right;\n",
       "    }\n",
       "</style>\n",
       "<table border=\"1\" class=\"dataframe\">\n",
       "  <thead>\n",
       "    <tr style=\"text-align: right;\">\n",
       "      <th></th>\n",
       "      <th>col1</th>\n",
       "      <th>col2</th>\n",
       "      <th>col3</th>\n",
       "      <th>col4</th>\n",
       "    </tr>\n",
       "  </thead>\n",
       "  <tbody>\n",
       "    <tr>\n",
       "      <th>0</th>\n",
       "      <td>A</td>\n",
       "      <td>2</td>\n",
       "      <td>0</td>\n",
       "      <td>a</td>\n",
       "    </tr>\n",
       "    <tr>\n",
       "      <th>1</th>\n",
       "      <td>A</td>\n",
       "      <td>1</td>\n",
       "      <td>1</td>\n",
       "      <td>B</td>\n",
       "    </tr>\n",
       "    <tr>\n",
       "      <th>2</th>\n",
       "      <td>B</td>\n",
       "      <td>9</td>\n",
       "      <td>9</td>\n",
       "      <td>c</td>\n",
       "    </tr>\n",
       "    <tr>\n",
       "      <th>5</th>\n",
       "      <td>C</td>\n",
       "      <td>4</td>\n",
       "      <td>3</td>\n",
       "      <td>F</td>\n",
       "    </tr>\n",
       "    <tr>\n",
       "      <th>4</th>\n",
       "      <td>D</td>\n",
       "      <td>7</td>\n",
       "      <td>2</td>\n",
       "      <td>e</td>\n",
       "    </tr>\n",
       "    <tr>\n",
       "      <th>3</th>\n",
       "      <td>NaN</td>\n",
       "      <td>8</td>\n",
       "      <td>4</td>\n",
       "      <td>D</td>\n",
       "    </tr>\n",
       "  </tbody>\n",
       "</table>\n",
       "</div>"
      ],
      "text/plain": [
       "  col1  col2  col3 col4\n",
       "0    A     2     0    a\n",
       "1    A     1     1    B\n",
       "2    B     9     9    c\n",
       "5    C     4     3    F\n",
       "4    D     7     2    e\n",
       "3  NaN     8     4    D"
      ]
     },
     "execution_count": 15,
     "metadata": {},
     "output_type": "execute_result"
    }
   ],
   "source": [
    "df.sort_values(by='col1')\n",
    "\n",
    "np."
   ]
  },
  {
   "cell_type": "code",
   "execution_count": 4,
   "id": "b7bc77ee",
   "metadata": {},
   "outputs": [],
   "source": [
    "matrice = [[1., 0., 0.],\n",
    "            [0., 1., 2.]]\n",
    "\n",
    "une_liste = [1., 2., 3.]"
   ]
  },
  {
   "cell_type": "code",
   "execution_count": 5,
   "id": "819e64f8",
   "metadata": {},
   "outputs": [
    {
     "data": {
      "text/plain": [
       "list"
      ]
     },
     "execution_count": 5,
     "metadata": {},
     "output_type": "execute_result"
    }
   ],
   "source": [
    "type(matrice)\n",
    "type(une_liste)"
   ]
  },
  {
   "cell_type": "code",
   "execution_count": 7,
   "id": "100549fb",
   "metadata": {},
   "outputs": [
    {
     "data": {
      "text/plain": [
       "numpy.ndarray"
      ]
     },
     "execution_count": 7,
     "metadata": {},
     "output_type": "execute_result"
    }
   ],
   "source": [
    "import numpy as np\n",
    "\n",
    "matrice = np.array(matrice)\n",
    "type(matrice)"
   ]
  }
 ],
 "metadata": {
  "kernelspec": {
   "display_name": "base",
   "language": "python",
   "name": "python3"
  },
  "language_info": {
   "codemirror_mode": {
    "name": "ipython",
    "version": 3
   },
   "file_extension": ".py",
   "mimetype": "text/x-python",
   "name": "python",
   "nbconvert_exporter": "python",
   "pygments_lexer": "ipython3",
   "version": "3.12.4"
  }
 },
 "nbformat": 4,
 "nbformat_minor": 5
}
