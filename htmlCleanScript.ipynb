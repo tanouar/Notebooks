{
 "cells": [
  {
   "cell_type": "code",
   "execution_count": 36,
   "id": "758b9202",
   "metadata": {},
   "outputs": [],
   "source": [
    "import pandas as pd\n",
    "import os\n",
    "import glob\n",
    "import re"
   ]
  },
  {
   "cell_type": "code",
   "execution_count": 37,
   "id": "81469b71",
   "metadata": {},
   "outputs": [],
   "source": [
    "# Définition du repertoire courant\n",
    "os.chdir(r'C:\\Users\\Home\\Documents\\Git\\DSt_JupyterNotebook\\DA201_RegressionAvecR\\courses')"
   ]
  },
  {
   "cell_type": "code",
   "execution_count": 38,
   "id": "f8d3c873",
   "metadata": {},
   "outputs": [
    {
     "name": "stdout",
     "output_type": "stream",
     "text": [
      "2 Fichier trouvés\n"
     ]
    }
   ],
   "source": [
    "rechercheFichierHtml = glob.glob('*.html')\n",
    "print(len(rechercheFichierHtml), \"Fichier trouvés\")"
   ]
  },
  {
   "cell_type": "code",
   "execution_count": 39,
   "id": "85e96ba4",
   "metadata": {},
   "outputs": [
    {
     "name": "stdout",
     "output_type": "stream",
     "text": [
      "Fichier en cours : ml_regression_01_regression_simple.html\n",
      "pattern  re.compile('anouar.tarik') find : 56 times in file : ml_regression_01_regression_simple.html\n",
      "pattern  re.compile('Tarik') find : 1 times in file : ml_regression_01_regression_simple.html\n",
      "pattern  re.compile('ANOUAR') find : 1 times in file : ml_regression_01_regression_simple.html\n",
      "pattern  re.compile('<div id=\"site\" style=\"height: 704px; display: block;\">') find : 0 times in file : ml_regression_01_regression_simple.html\n",
      "Fichier en cours : ml_regression_02_regression_multiple.html\n",
      "pattern  re.compile('anouar.tarik') find : 70 times in file : ml_regression_02_regression_multiple.html\n",
      "pattern  re.compile('Tarik') find : 1 times in file : ml_regression_02_regression_multiple.html\n",
      "pattern  re.compile('ANOUAR') find : 1 times in file : ml_regression_02_regression_multiple.html\n",
      "pattern  re.compile('<div id=\"site\" style=\"height: 704px; display: block;\">') find : 0 times in file : ml_regression_02_regression_multiple.html\n"
     ]
    }
   ],
   "source": [
    "for file in rechercheFichierHtml:\n",
    "    \n",
    "    with open(file, \"r\", encoding='utf-8') as f:\n",
    "        text= f.read()\n",
    "        \n",
    "        print('Fichier en cours :', file)\n",
    "    \n",
    "    \n",
    "        # recherche des patterns : NON obligatoire\n",
    "        r = re.compile(r\"anouar.tarik\")\n",
    "        r_name = re.compile(r\"Tarik\")\n",
    "        r_surname = re.compile(r\"ANOUAR\")\n",
    "\n",
    "        # regex du rognage de la page html\n",
    "        r_cut = re.compile(r'<div id=\"site\" style=\"height: 704px; display: block;\">')\n",
    "\n",
    "        # regex pour cherche le code de la barre de navigation\n",
    "        r_navBar = re.compile(r\"(?<=NewNav\\sBar\\s-\\sGregoire)(.*?\\n)*?(?=\\s+\\S!--\\s\\S+\\s--\\S)\")\n",
    "\n",
    "        # messages pour utilisateur\n",
    "        print(\"pattern \", r, \"find :\", len(r.findall(text)), \"times\", \"in file :\", str(f).split(\"'\")[1])\n",
    "        print(\"pattern \", r_name, \"find :\", len(r_name.findall(text)), \"times\", \"in file :\", str(f).split(\"'\")[1])\n",
    "        print(\"pattern \", r_surname, \"find :\", len(r_surname.findall(text)), \"times\", \"in file :\", str(f).split(\"'\")[1])\n",
    "        print(\"pattern \", r_cut, \"find :\", len(r_cut.findall(text)), \"times\", \"in file :\", str(f).split(\"'\")[1])\n",
    "\n",
    "        # valeurs de substitution\n",
    "        subst = \"fake\"\n",
    "        blank = \"\"\n",
    "\n",
    "        # remplacement des match avec la valeur de substitution : NON obligatoire\n",
    "        result = re.sub(r, subst, text)\n",
    "        result = re.sub(r_name, subst, result)\n",
    "        result = re.sub(r_surname, subst, result)\n",
    "        # suppression du code html qui rogne la page et barre de navigation\n",
    "        result = re.sub(r_cut, blank, result)\n",
    "        result = re.sub(r_navBar, blank, result)\n",
    "\n",
    "        # Défintion du nouveau nom de fichier\n",
    "        fileClean = str(f).split(\"'\")[1].split('.')[0] + \"_Clean.html\"\n",
    "\n",
    "        # Enregistrement du fichier Clean\n",
    "        with open(fileClean,\"w\", encoding=\"utf-8\") as file:\n",
    "            file.write(result)"
   ]
  },
  {
   "cell_type": "code",
   "execution_count": 40,
   "id": "724475c3",
   "metadata": {},
   "outputs": [],
   "source": [
    "# modification de l'extension des fichier d'origines avant suppression manuel\n",
    "for element in rechercheFichierHtml:\n",
    "    file_name = element.split('.')\n",
    "    os.rename(element, file_name[0] + \".txt\")"
   ]
  }
 ],
 "metadata": {
  "kernelspec": {
   "display_name": "Python 3",
   "language": "python",
   "name": "python3"
  },
  "language_info": {
   "codemirror_mode": {
    "name": "ipython",
    "version": 3
   },
   "file_extension": ".py",
   "mimetype": "text/x-python",
   "name": "python",
   "nbconvert_exporter": "python",
   "pygments_lexer": "ipython3",
   "version": "3.8.8"
  }
 },
 "nbformat": 4,
 "nbformat_minor": 5
}
